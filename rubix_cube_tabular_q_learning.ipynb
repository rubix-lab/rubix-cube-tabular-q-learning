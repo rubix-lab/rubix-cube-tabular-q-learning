{
 "cells": [
  {
   "cell_type": "code",
   "execution_count": 272,
   "metadata": {},
   "outputs": [
    {
     "name": "stdout",
     "output_type": "stream",
     "text": [
      "Defaulting to user installation because normal site-packages is not writeable\n",
      "Requirement already satisfied: rubik-cube in /home/heitzlki/.local/lib/python3.10/site-packages (0.0.1)\n",
      "Requirement already satisfied: numpy in /home/heitzlki/.local/lib/python3.10/site-packages (1.22.1)\n",
      "Requirement already satisfied: matplotlib in /home/heitzlki/.local/lib/python3.10/site-packages (3.5.1)\n",
      "Requirement already satisfied: pyparsing>=2.2.1 in /usr/lib/python3.10/site-packages (from matplotlib) (2.4.7)\n",
      "Requirement already satisfied: fonttools>=4.22.0 in /home/heitzlki/.local/lib/python3.10/site-packages (from matplotlib) (4.28.5)\n",
      "Requirement already satisfied: python-dateutil>=2.7 in /home/heitzlki/.local/lib/python3.10/site-packages (from matplotlib) (2.8.2)\n",
      "Requirement already satisfied: kiwisolver>=1.0.1 in /home/heitzlki/.local/lib/python3.10/site-packages (from matplotlib) (1.3.2)\n",
      "Requirement already satisfied: cycler>=0.10 in /home/heitzlki/.local/lib/python3.10/site-packages (from matplotlib) (0.11.0)\n",
      "Requirement already satisfied: packaging>=20.0 in /usr/lib/python3.10/site-packages (from matplotlib) (20.9)\n",
      "Requirement already satisfied: pillow>=6.2.0 in /usr/lib/python3.10/site-packages (from matplotlib) (9.0.0)\n",
      "Requirement already satisfied: six>=1.5 in /usr/lib/python3.10/site-packages (from python-dateutil>=2.7->matplotlib) (1.16.0)\n",
      "Note: you may need to restart the kernel to use updated packages.\n"
     ]
    }
   ],
   "source": [
    "%pip install rubik-cube numpy matplotlib"
   ]
  },
  {
   "cell_type": "code",
   "execution_count": 273,
   "metadata": {},
   "outputs": [
    {
     "name": "stdout",
     "output_type": "stream",
     "text": [
      "    \u001b[38;5;214mO\u001b[0m\u001b[38;5;214mO\u001b[0m\u001b[38;5;214mO\u001b[0m\n",
      "    \u001b[38;5;214mO\u001b[0m\u001b[38;5;214mO\u001b[0m\u001b[38;5;214mO\u001b[0m\n",
      "    \u001b[38;5;214mO\u001b[0m\u001b[38;5;214mO\u001b[0m\u001b[38;5;214mO\u001b[0m\n",
      "\u001b[38;5;11mY\u001b[0m\u001b[38;5;11mY\u001b[0m\u001b[38;5;11mY\u001b[0m \u001b[38;5;15mW\u001b[0m\u001b[38;5;15mW\u001b[0m\u001b[38;5;15mW\u001b[0m \u001b[38;5;10mG\u001b[0m\u001b[38;5;10mG\u001b[0m\u001b[38;5;10mG\u001b[0m \u001b[38;5;12mB\u001b[0m\u001b[38;5;12mB\u001b[0m\u001b[38;5;12mB\u001b[0m\n",
      "\u001b[38;5;11mY\u001b[0m\u001b[38;5;11mY\u001b[0m\u001b[38;5;11mY\u001b[0m \u001b[38;5;15mW\u001b[0m\u001b[38;5;15mW\u001b[0m\u001b[38;5;15mW\u001b[0m \u001b[38;5;10mG\u001b[0m\u001b[38;5;10mG\u001b[0m\u001b[38;5;10mG\u001b[0m \u001b[38;5;12mB\u001b[0m\u001b[38;5;12mB\u001b[0m\u001b[38;5;12mB\u001b[0m\n",
      "\u001b[38;5;11mY\u001b[0m\u001b[38;5;11mY\u001b[0m\u001b[38;5;11mY\u001b[0m \u001b[38;5;15mW\u001b[0m\u001b[38;5;15mW\u001b[0m\u001b[38;5;15mW\u001b[0m \u001b[38;5;10mG\u001b[0m\u001b[38;5;10mG\u001b[0m\u001b[38;5;10mG\u001b[0m \u001b[38;5;12mB\u001b[0m\u001b[38;5;12mB\u001b[0m\u001b[38;5;12mB\u001b[0m\n",
      "    \u001b[38;5;9mR\u001b[0m\u001b[38;5;9mR\u001b[0m\u001b[38;5;9mR\u001b[0m\n",
      "    \u001b[38;5;9mR\u001b[0m\u001b[38;5;9mR\u001b[0m\u001b[38;5;9mR\u001b[0m\n",
      "    \u001b[38;5;9mR\u001b[0m\u001b[38;5;9mR\u001b[0m\u001b[38;5;9mR\u001b[0m\n"
     ]
    }
   ],
   "source": [
    "from rubik.cube import Cube\n",
    "\n",
    "def colored_cube(cube: Cube):\n",
    "  cube_str = \"\"\n",
    "  for char in cube.__str__():\n",
    "    match (char):\n",
    "      case \"O\":\n",
    "        cube_str += \"\\033[38;5;214mO\\033[0m\"\n",
    "      case \"Y\":\n",
    "        cube_str += \"\\033[38;5;11mY\\033[0m\"\n",
    "      case \"W\":\n",
    "        cube_str += \"\\033[38;5;15mW\\033[0m\"\n",
    "      case \"G\":\n",
    "        cube_str += \"\\033[38;5;10mG\\033[0m\"\n",
    "      case \"B\":\n",
    "        cube_str += \"\\033[38;5;12mB\\033[0m\"\n",
    "      case \"R\":\n",
    "        cube_str += \"\\033[38;5;9mR\\033[0m\"\n",
    "      case _:\n",
    "        cube_str += char\n",
    "  \n",
    "  return cube_str\n",
    "\n",
    "c = Cube(\"OOOOOOOOOYYYWWWGGGBBBYYYWWWGGGBBBYYYWWWGGGBBBRRRRRRRRR\")\n",
    "\n",
    "print(colored_cube(c))"
   ]
  },
  {
   "cell_type": "code",
   "execution_count": 274,
   "metadata": {},
   "outputs": [
    {
     "name": "stdout",
     "output_type": "stream",
     "text": [
      "    \u001b[38;5;214mO\u001b[0m\u001b[38;5;214mO\u001b[0m\u001b[38;5;214mO\u001b[0m\n",
      "    \u001b[38;5;214mO\u001b[0m\u001b[38;5;214mO\u001b[0m\u001b[38;5;214mO\u001b[0m\n",
      "    \u001b[38;5;214mO\u001b[0m\u001b[38;5;214mO\u001b[0m\u001b[38;5;214mO\u001b[0m\n",
      "\u001b[38;5;11mY\u001b[0m\u001b[38;5;11mY\u001b[0m\u001b[38;5;11mY\u001b[0m \u001b[38;5;15mW\u001b[0m\u001b[38;5;15mW\u001b[0m\u001b[38;5;15mW\u001b[0m \u001b[38;5;10mG\u001b[0m\u001b[38;5;10mG\u001b[0m\u001b[38;5;10mG\u001b[0m \u001b[38;5;12mB\u001b[0m\u001b[38;5;12mB\u001b[0m\u001b[38;5;12mB\u001b[0m\n",
      "\u001b[38;5;11mY\u001b[0m\u001b[38;5;11mY\u001b[0m\u001b[38;5;11mY\u001b[0m \u001b[38;5;15mW\u001b[0m\u001b[38;5;15mW\u001b[0m\u001b[38;5;15mW\u001b[0m \u001b[38;5;10mG\u001b[0m\u001b[38;5;10mG\u001b[0m\u001b[38;5;10mG\u001b[0m \u001b[38;5;12mB\u001b[0m\u001b[38;5;12mB\u001b[0m\u001b[38;5;12mB\u001b[0m\n",
      "\u001b[38;5;12mB\u001b[0m\u001b[38;5;12mB\u001b[0m\u001b[38;5;12mB\u001b[0m \u001b[38;5;11mY\u001b[0m\u001b[38;5;11mY\u001b[0m\u001b[38;5;11mY\u001b[0m \u001b[38;5;15mW\u001b[0m\u001b[38;5;15mW\u001b[0m\u001b[38;5;15mW\u001b[0m \u001b[38;5;10mG\u001b[0m\u001b[38;5;10mG\u001b[0m\u001b[38;5;10mG\u001b[0m\n",
      "    \u001b[38;5;9mR\u001b[0m\u001b[38;5;9mR\u001b[0m\u001b[38;5;9mR\u001b[0m\n",
      "    \u001b[38;5;9mR\u001b[0m\u001b[38;5;9mR\u001b[0m\u001b[38;5;9mR\u001b[0m\n",
      "    \u001b[38;5;9mR\u001b[0m\u001b[38;5;9mR\u001b[0m\u001b[38;5;9mR\u001b[0m\n"
     ]
    }
   ],
   "source": [
    "import random\n",
    "\n",
    "SOLVED_CUBE_STR = \"OOOOOOOOOYYYWWWGGGBBBYYYWWWGGGBBBYYYWWWGGGBBBRRRRRRRRR\"\n",
    "MOVES = [\"L\", \"R\", \"U\", \"D\", \"F\", \"B\", \"M\", \"E\", \"S\"]\n",
    "\n",
    "def random_cube(num_moves: int = 1):\n",
    "    \"\"\"\n",
    "    :return: A new scrambled Cube\n",
    "    \"\"\"\n",
    "    scramble_moves = \" \".join(random.choices(MOVES, k=num_moves))\n",
    "    c = Cube(SOLVED_CUBE_STR)\n",
    "    c.sequence(scramble_moves)\n",
    "    return c\n",
    "\n",
    "print(colored_cube(random_cube(1)))"
   ]
  },
  {
   "cell_type": "code",
   "execution_count": 275,
   "metadata": {},
   "outputs": [
    {
     "name": "stdout",
     "output_type": "stream",
     "text": [
      "    \u001b[38;5;11mY\u001b[0m\u001b[38;5;10mG\u001b[0m\u001b[38;5;15mW\u001b[0m\n",
      "    \u001b[38;5;15mW\u001b[0m\u001b[38;5;10mG\u001b[0m\u001b[38;5;10mG\u001b[0m\n",
      "    \u001b[38;5;15mW\u001b[0m\u001b[38;5;11mY\u001b[0m\u001b[38;5;12mB\u001b[0m\n",
      "\u001b[38;5;9mR\u001b[0m\u001b[38;5;9mR\u001b[0m\u001b[38;5;10mG\u001b[0m \u001b[38;5;214mO\u001b[0m\u001b[38;5;15mW\u001b[0m\u001b[38;5;10mG\u001b[0m \u001b[38;5;9mR\u001b[0m\u001b[38;5;9mR\u001b[0m\u001b[38;5;11mY\u001b[0m \u001b[38;5;9mR\u001b[0m\u001b[38;5;214mO\u001b[0m\u001b[38;5;12mB\u001b[0m\n",
      "\u001b[38;5;12mB\u001b[0m\u001b[38;5;214mO\u001b[0m\u001b[38;5;11mY\u001b[0m \u001b[38;5;214mO\u001b[0m\u001b[38;5;15mW\u001b[0m\u001b[38;5;11mY\u001b[0m \u001b[38;5;12mB\u001b[0m\u001b[38;5;9mR\u001b[0m\u001b[38;5;214mO\u001b[0m \u001b[38;5;15mW\u001b[0m\u001b[38;5;12mB\u001b[0m\u001b[38;5;214mO\u001b[0m\n",
      "\u001b[38;5;214mO\u001b[0m\u001b[38;5;9mR\u001b[0m\u001b[38;5;10mG\u001b[0m \u001b[38;5;9mR\u001b[0m\u001b[38;5;12mB\u001b[0m\u001b[38;5;12mB\u001b[0m \u001b[38;5;10mG\u001b[0m\u001b[38;5;15mW\u001b[0m\u001b[38;5;214mO\u001b[0m \u001b[38;5;15mW\u001b[0m\u001b[38;5;9mR\u001b[0m\u001b[38;5;12mB\u001b[0m\n",
      "    \u001b[38;5;15mW\u001b[0m\u001b[38;5;10mG\u001b[0m\u001b[38;5;214mO\u001b[0m\n",
      "    \u001b[38;5;11mY\u001b[0m\u001b[38;5;11mY\u001b[0m\u001b[38;5;10mG\u001b[0m\n",
      "    \u001b[38;5;11mY\u001b[0m\u001b[38;5;12mB\u001b[0m\u001b[38;5;11mY\u001b[0m\n",
      "Cube Hash: 146812\n"
     ]
    }
   ],
   "source": [
    "c = Cube(\"OOOOOOOOOYYYWWWGGGBBBYYYWWWGGGBBBYYYWWWGGGBBBRRRRRRRRR\")\n",
    "# print(c._color_list())\n",
    "\n",
    "def cube_hash(cube: Cube):\n",
    "  res = 0\n",
    "  res_list=[]\n",
    "  for piece in cube._color_list():\n",
    "    # O: 1, Y: 2, W: 3, G: 4, B: 5, R: 6\n",
    "    match (piece):\n",
    "      case \"O\":\n",
    "        res_list.append(1)\n",
    "      case \"Y\":\n",
    "        res_list.append(2)\n",
    "      case \"W\":\n",
    "        res_list.append(3)\n",
    "      case \"G\":\n",
    "        res_list.append(4)\n",
    "      case \"B\":\n",
    "        res_list.append(5)\n",
    "      case \"R\":\n",
    "        res_list.append(6)\n",
    "  \n",
    "  for i in range(6):\n",
    "      res *= 9\n",
    "      res += res_list[i]\n",
    "  \n",
    "  return res\n",
    "\n",
    "c = random_cube(100)\n",
    "print(colored_cube(c))\n",
    "print(\"Cube Hash:\", cube_hash(c))\n",
    "\n"
   ]
  },
  {
   "cell_type": "code",
   "execution_count": 276,
   "metadata": {},
   "outputs": [],
   "source": [
    "import numpy as np\n",
    "\n",
    "class Agent:\n",
    "    def __init__(self, alpha=0.9, gamma=0.95, q_init=0.6):\n",
    "        # alpha: The learning rate needs to be larger than 0 and smaller than 1\n",
    "        # gamma: The reward discount. Needs to be larger than 0  and should be smaller than 1. Values close to 1 should work best.\n",
    "        # q_init: The initial q values for each action and state.\n",
    "        \n",
    "        self.q = {}  # type: Dict[int, np.ndarray]\n",
    "        self.action_history = []  # type: List[(int, int)]\n",
    "        self.learning_rate = alpha\n",
    "        self.value_discount = gamma\n",
    "        self.q_init_val = q_init\n",
    "        super().__init__()\n",
    "\n",
    "    def get_q(self, hash_value: int) -> np.ndarray:\n",
    "        # Returns the q values for the state with hash value of cube\n",
    "        # hash_value: The hash value of the board state for which the q values should be returned\n",
    "        # return: List of q values for the input state hash.\n",
    "\n",
    "        #\n",
    "        # Build Q table in a lazy manner, only adding a state when it is actually used for the first time\n",
    "        #\n",
    "        if hash_value in self.q:\n",
    "            qvals = self.q[hash_value]\n",
    "        else:\n",
    "            qvals = np.full(9, self.q_init_val)\n",
    "            self.q[hash_value] = qvals\n",
    "\n",
    "        return qvals\n",
    "\n",
    "    def get_action(self, cube: Cube) -> int:\n",
    "        # Return the next action given the cube `board` cube on the current Q values\n",
    "        # cube: The current cube state\n",
    "        # return: The next action based on the current Q values for the input state\n",
    "        \n",
    "        hash_value = cube_hash(cube)  # type: int\n",
    "        qvals = self.get_q(hash_value)  # type: np.ndarray\n",
    "        m = np.argmax(qvals)  # type: int\n",
    "        return m\n",
    "\n",
    "    def action(self, cube: Cube) -> bool:\n",
    "        # Makes a action to solve the cube\n",
    "        # cube: The cube to make a action on\n",
    "        # return: Bool whether the cube is solved\n",
    "\n",
    "        m = self.get_action(cube)\n",
    "        self.action_history.append((cube_hash(cube), m))\n",
    "        cube.sequence(MOVES[m])\n",
    "        solved = cube.is_solved()\n",
    "        return solved\n",
    "\n",
    "    def update_q(self, moves: int = 0, result: float = None):\n",
    "        # Gets called after the game has finished. Will update the current Q function based on the actions.\n",
    "\n",
    "        if(result == None):\n",
    "            result =  len(self.action_history) / moves\n",
    "\n",
    "        self.action_history.reverse()\n",
    "        next_max = -1.0  # type: float\n",
    "\n",
    "        for a in self.action_history:\n",
    "            qvals = self.get_q(a[0])\n",
    "            if next_max < 0:  # First time through the loop\n",
    "                qvals[a[1]] = result\n",
    "            else:\n",
    "                qvals[a[1]] = qvals[a[1]] * (\n",
    "                            1.0 - self.learning_rate) + self.learning_rate * self.value_discount * next_max\n",
    "\n",
    "            next_max = max(qvals)\n",
    "\n",
    "    def new_agent(self):\n",
    "        self.action_history = []"
   ]
  },
  {
   "cell_type": "code",
   "execution_count": 277,
   "metadata": {},
   "outputs": [],
   "source": [
    "def try_to_solve(cube: Cube, agent: Agent, num_moves: int, cancle_after: int) -> bool:\n",
    "    agent.new_agent()\n",
    "    \n",
    "    for _ in range(cancle_after):\n",
    "      solved = agent.action(cube)\n",
    "      if solved:\n",
    "        agent.update_q(num_moves)\n",
    "        return True\n",
    "\n",
    "    agent.update_q(num_moves, -1.0)\n",
    "    return False"
   ]
  },
  {
   "cell_type": "code",
   "execution_count": 286,
   "metadata": {},
   "outputs": [
    {
     "name": "stdout",
     "output_type": "stream",
     "text": [
      "106\n"
     ]
    }
   ],
   "source": [
    "def train(agent: Agent, num_moves: int = 1, cancle_after: int = 1, num_games: int = 10, silent: bool = False):\n",
    "  solved_count=0\n",
    "  for _ in range(num_games):\n",
    "    cube = random_cube(num_moves)\n",
    "    solved = try_to_solve(cube, agent, num_moves, cancle_after)\n",
    "    if(solved):\n",
    "      solved_count+=1\n",
    "    # print(solved)\n",
    "\n",
    "  print(solved_count)\n",
    "agent = Agent()\n",
    "train(agent, 1, 3, 1000)"
   ]
  }
 ],
 "metadata": {
  "interpreter": {
   "hash": "e7370f93d1d0cde622a1f8e1c04877d8463912d04d973331ad4851f04de6915a"
  },
  "kernelspec": {
   "display_name": "Python 3.10.1 64-bit",
   "language": "python",
   "name": "python3"
  },
  "language_info": {
   "codemirror_mode": {
    "name": "ipython",
    "version": 3
   },
   "file_extension": ".py",
   "mimetype": "text/x-python",
   "name": "python",
   "nbconvert_exporter": "python",
   "pygments_lexer": "ipython3",
   "version": "3.10.1"
  },
  "orig_nbformat": 4
 },
 "nbformat": 4,
 "nbformat_minor": 2
}
