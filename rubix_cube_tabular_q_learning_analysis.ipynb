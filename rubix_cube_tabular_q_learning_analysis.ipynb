{
 "cells": [
  {
   "cell_type": "code",
   "execution_count": 27,
   "metadata": {},
   "outputs": [
    {
     "name": "stdout",
     "output_type": "stream",
     "text": [
      "Defaulting to user installation because normal site-packages is not writeable\n",
      "Requirement already satisfied: rubik-cube in /home/heitzlki/.local/lib/python3.10/site-packages (0.0.1)\n",
      "Requirement already satisfied: numpy in /home/heitzlki/.local/lib/python3.10/site-packages (1.22.1)\n",
      "Requirement already satisfied: matplotlib in /home/heitzlki/.local/lib/python3.10/site-packages (3.5.1)\n",
      "Requirement already satisfied: pandas in /home/heitzlki/.local/lib/python3.10/site-packages (1.4.0)\n",
      "Requirement already satisfied: pyparsing>=2.2.1 in /usr/lib/python3.10/site-packages (from matplotlib) (3.0.7)\n",
      "Requirement already satisfied: python-dateutil>=2.7 in /home/heitzlki/.local/lib/python3.10/site-packages (from matplotlib) (2.8.2)\n",
      "Requirement already satisfied: fonttools>=4.22.0 in /home/heitzlki/.local/lib/python3.10/site-packages (from matplotlib) (4.28.5)\n",
      "Requirement already satisfied: cycler>=0.10 in /home/heitzlki/.local/lib/python3.10/site-packages (from matplotlib) (0.11.0)\n",
      "Requirement already satisfied: kiwisolver>=1.0.1 in /home/heitzlki/.local/lib/python3.10/site-packages (from matplotlib) (1.3.2)\n",
      "Requirement already satisfied: pillow>=6.2.0 in /usr/lib/python3.10/site-packages (from matplotlib) (9.1.0)\n",
      "Requirement already satisfied: packaging>=20.0 in /usr/lib/python3.10/site-packages (from matplotlib) (20.9)\n",
      "Requirement already satisfied: six>=1.5 in /usr/lib/python3.10/site-packages (from python-dateutil>=2.7->matplotlib) (1.16.0)\n",
      "Requirement already satisfied: pytz>=2020.1 in /home/heitzlki/.local/lib/python3.10/site-packages (from pandas) (2021.3)\n",
      "Note: you may need to restart the kernel to use updated packages.\n"
     ]
    }
   ],
   "source": [
    "%pip install rubik-cube numpy matplotlib pandas"
   ]
  },
  {
   "cell_type": "code",
   "execution_count": 28,
   "metadata": {},
   "outputs": [
    {
     "name": "stdout",
     "output_type": "stream",
     "text": [
      "    \u001b[38;5;214mO\u001b[0m\u001b[38;5;214mO\u001b[0m\u001b[38;5;214mO\u001b[0m\n",
      "    \u001b[38;5;214mO\u001b[0m\u001b[38;5;214mO\u001b[0m\u001b[38;5;214mO\u001b[0m\n",
      "    \u001b[38;5;214mO\u001b[0m\u001b[38;5;214mO\u001b[0m\u001b[38;5;214mO\u001b[0m\n",
      "\u001b[38;5;11mY\u001b[0m\u001b[38;5;11mY\u001b[0m\u001b[38;5;11mY\u001b[0m \u001b[38;5;15mW\u001b[0m\u001b[38;5;15mW\u001b[0m\u001b[38;5;15mW\u001b[0m \u001b[38;5;10mG\u001b[0m\u001b[38;5;10mG\u001b[0m\u001b[38;5;10mG\u001b[0m \u001b[38;5;12mB\u001b[0m\u001b[38;5;12mB\u001b[0m\u001b[38;5;12mB\u001b[0m\n",
      "\u001b[38;5;11mY\u001b[0m\u001b[38;5;11mY\u001b[0m\u001b[38;5;11mY\u001b[0m \u001b[38;5;15mW\u001b[0m\u001b[38;5;15mW\u001b[0m\u001b[38;5;15mW\u001b[0m \u001b[38;5;10mG\u001b[0m\u001b[38;5;10mG\u001b[0m\u001b[38;5;10mG\u001b[0m \u001b[38;5;12mB\u001b[0m\u001b[38;5;12mB\u001b[0m\u001b[38;5;12mB\u001b[0m\n",
      "\u001b[38;5;11mY\u001b[0m\u001b[38;5;11mY\u001b[0m\u001b[38;5;11mY\u001b[0m \u001b[38;5;15mW\u001b[0m\u001b[38;5;15mW\u001b[0m\u001b[38;5;15mW\u001b[0m \u001b[38;5;10mG\u001b[0m\u001b[38;5;10mG\u001b[0m\u001b[38;5;10mG\u001b[0m \u001b[38;5;12mB\u001b[0m\u001b[38;5;12mB\u001b[0m\u001b[38;5;12mB\u001b[0m\n",
      "    \u001b[38;5;9mR\u001b[0m\u001b[38;5;9mR\u001b[0m\u001b[38;5;9mR\u001b[0m\n",
      "    \u001b[38;5;9mR\u001b[0m\u001b[38;5;9mR\u001b[0m\u001b[38;5;9mR\u001b[0m\n",
      "    \u001b[38;5;9mR\u001b[0m\u001b[38;5;9mR\u001b[0m\u001b[38;5;9mR\u001b[0m\n"
     ]
    }
   ],
   "source": [
    "from rubik.cube import Cube\n",
    "\n",
    "def colored_cube(cube: Cube):\n",
    "  cube_str = \"\"\n",
    "  for char in cube.__str__():\n",
    "      if(char == \"O\"):\n",
    "        cube_str += \"\\033[38;5;214mO\\033[0m\"\n",
    "      elif(char == \"Y\"):\n",
    "        cube_str += \"\\033[38;5;11mY\\033[0m\"\n",
    "      elif(char == \"W\"):\n",
    "        cube_str += \"\\033[38;5;15mW\\033[0m\"\n",
    "      elif(char == \"G\"):\n",
    "        cube_str += \"\\033[38;5;10mG\\033[0m\"\n",
    "      elif(char == \"B\"):\n",
    "        cube_str += \"\\033[38;5;12mB\\033[0m\"\n",
    "      elif(char == \"R\"):\n",
    "        cube_str += \"\\033[38;5;9mR\\033[0m\"\n",
    "      else:\n",
    "        cube_str += char\n",
    "  \n",
    "  return cube_str\n",
    "\n",
    "c = Cube(\"OOOOOOOOOYYYWWWGGGBBBYYYWWWGGGBBBYYYWWWGGGBBBRRRRRRRRR\")\n",
    "\n",
    "print(colored_cube(c))\n"
   ]
  },
  {
   "cell_type": "code",
   "execution_count": 29,
   "metadata": {},
   "outputs": [
    {
     "name": "stdout",
     "output_type": "stream",
     "text": [
      "    \u001b[38;5;214mO\u001b[0m\u001b[38;5;214mO\u001b[0m\u001b[38;5;214mO\u001b[0m\n",
      "    \u001b[38;5;214mO\u001b[0m\u001b[38;5;214mO\u001b[0m\u001b[38;5;214mO\u001b[0m\n",
      "    \u001b[38;5;11mY\u001b[0m\u001b[38;5;11mY\u001b[0m\u001b[38;5;11mY\u001b[0m\n",
      "\u001b[38;5;11mY\u001b[0m\u001b[38;5;11mY\u001b[0m\u001b[38;5;9mR\u001b[0m \u001b[38;5;15mW\u001b[0m\u001b[38;5;15mW\u001b[0m\u001b[38;5;15mW\u001b[0m \u001b[38;5;214mO\u001b[0m\u001b[38;5;10mG\u001b[0m\u001b[38;5;10mG\u001b[0m \u001b[38;5;12mB\u001b[0m\u001b[38;5;12mB\u001b[0m\u001b[38;5;12mB\u001b[0m\n",
      "\u001b[38;5;11mY\u001b[0m\u001b[38;5;11mY\u001b[0m\u001b[38;5;9mR\u001b[0m \u001b[38;5;15mW\u001b[0m\u001b[38;5;15mW\u001b[0m\u001b[38;5;15mW\u001b[0m \u001b[38;5;214mO\u001b[0m\u001b[38;5;10mG\u001b[0m\u001b[38;5;10mG\u001b[0m \u001b[38;5;12mB\u001b[0m\u001b[38;5;12mB\u001b[0m\u001b[38;5;12mB\u001b[0m\n",
      "\u001b[38;5;11mY\u001b[0m\u001b[38;5;11mY\u001b[0m\u001b[38;5;9mR\u001b[0m \u001b[38;5;15mW\u001b[0m\u001b[38;5;15mW\u001b[0m\u001b[38;5;15mW\u001b[0m \u001b[38;5;214mO\u001b[0m\u001b[38;5;10mG\u001b[0m\u001b[38;5;10mG\u001b[0m \u001b[38;5;12mB\u001b[0m\u001b[38;5;12mB\u001b[0m\u001b[38;5;12mB\u001b[0m\n",
      "    \u001b[38;5;10mG\u001b[0m\u001b[38;5;10mG\u001b[0m\u001b[38;5;10mG\u001b[0m\n",
      "    \u001b[38;5;9mR\u001b[0m\u001b[38;5;9mR\u001b[0m\u001b[38;5;9mR\u001b[0m\n",
      "    \u001b[38;5;9mR\u001b[0m\u001b[38;5;9mR\u001b[0m\u001b[38;5;9mR\u001b[0m\n"
     ]
    }
   ],
   "source": [
    "import random\n",
    "\n",
    "SOLVED_CUBE_STR = \"OOOOOOOOOYYYWWWGGGBBBYYYWWWGGGBBBYYYWWWGGGBBBRRRRRRRRR\"\n",
    "MOVES = [\"L\", \"R\", \"U\", \"D\", \"F\", \"B\", \"M\", \"E\", \"S\"]\n",
    "\n",
    "\n",
    "def random_cube(num_moves: int = 1, seq: bool = False):\n",
    "    \"\"\"\n",
    "    :return: A new scrambled Cube\n",
    "    \"\"\"\n",
    "    scramble_moves = \" \".join(random.choices(MOVES, k=num_moves))\n",
    "    c = Cube(SOLVED_CUBE_STR)\n",
    "    c.sequence(scramble_moves)\n",
    "    if seq:\n",
    "        return c, scramble_moves\n",
    "    return c\n",
    "\n",
    "print(colored_cube(random_cube(1)))"
   ]
  },
  {
   "cell_type": "code",
   "execution_count": 30,
   "metadata": {},
   "outputs": [
    {
     "name": "stdout",
     "output_type": "stream",
     "text": [
      "    \u001b[38;5;15mW\u001b[0m\u001b[38;5;11mY\u001b[0m\u001b[38;5;12mB\u001b[0m\n",
      "    \u001b[38;5;12mB\u001b[0m\u001b[38;5;12mB\u001b[0m\u001b[38;5;10mG\u001b[0m\n",
      "    \u001b[38;5;11mY\u001b[0m\u001b[38;5;12mB\u001b[0m\u001b[38;5;15mW\u001b[0m\n",
      "\u001b[38;5;214mO\u001b[0m\u001b[38;5;214mO\u001b[0m\u001b[38;5;214mO\u001b[0m \u001b[38;5;12mB\u001b[0m\u001b[38;5;11mY\u001b[0m\u001b[38;5;9mR\u001b[0m \u001b[38;5;10mG\u001b[0m\u001b[38;5;15mW\u001b[0m\u001b[38;5;214mO\u001b[0m \u001b[38;5;10mG\u001b[0m\u001b[38;5;214mO\u001b[0m\u001b[38;5;10mG\u001b[0m\n",
      "\u001b[38;5;12mB\u001b[0m\u001b[38;5;214mO\u001b[0m\u001b[38;5;12mB\u001b[0m \u001b[38;5;10mG\u001b[0m\u001b[38;5;10mG\u001b[0m\u001b[38;5;11mY\u001b[0m \u001b[38;5;9mR\u001b[0m\u001b[38;5;9mR\u001b[0m\u001b[38;5;15mW\u001b[0m \u001b[38;5;9mR\u001b[0m\u001b[38;5;11mY\u001b[0m\u001b[38;5;9mR\u001b[0m\n",
      "\u001b[38;5;9mR\u001b[0m\u001b[38;5;10mG\u001b[0m\u001b[38;5;214mO\u001b[0m \u001b[38;5;15mW\u001b[0m\u001b[38;5;15mW\u001b[0m\u001b[38;5;11mY\u001b[0m \u001b[38;5;9mR\u001b[0m\u001b[38;5;15mW\u001b[0m\u001b[38;5;11mY\u001b[0m \u001b[38;5;15mW\u001b[0m\u001b[38;5;10mG\u001b[0m\u001b[38;5;12mB\u001b[0m\n",
      "    \u001b[38;5;11mY\u001b[0m\u001b[38;5;11mY\u001b[0m\u001b[38;5;12mB\u001b[0m\n",
      "    \u001b[38;5;214mO\u001b[0m\u001b[38;5;15mW\u001b[0m\u001b[38;5;214mO\u001b[0m\n",
      "    \u001b[38;5;10mG\u001b[0m\u001b[38;5;9mR\u001b[0m\u001b[38;5;9mR\u001b[0m\n",
      "Cube Hash: 9e3d5de5d2\n"
     ]
    }
   ],
   "source": [
    "# def cube_hash(cube: Cube):\n",
    "#   res = 0\n",
    "#   res_list=[]\n",
    "#   for piece in cube._color_list():\n",
    "#     # O: 1, Y: 2, W: 3, G: 4, B: 5, R: 6\n",
    "#     if(piece == \"O\"):\n",
    "#       res_list.append(1)\n",
    "#     elif(piece == \"Y\"):\n",
    "#       res_list.append(2)\n",
    "#     elif(piece == \"W\"):\n",
    "#       res_list.append(3)\n",
    "#     elif(piece == \"G\"):\n",
    "#       res_list.append(4)\n",
    "#     elif(piece == \"B\"):\n",
    "#       res_list.append(5)\n",
    "#     elif(piece == \"R\"):\n",
    "#       res_list.append(6)\n",
    "  \n",
    "#   for i in range(6):\n",
    "#       res *= 9\n",
    "#       res += res_list[i]\n",
    "  \n",
    "#   return res\n",
    "import hashlib\n",
    "\n",
    "def cube_hash(cube: Cube):\n",
    "  return hashlib.sha1(cube.__str__().encode(\"UTF-8\")).hexdigest()[:10]\n",
    "\n",
    "c = random_cube(100)\n",
    "print(colored_cube(c))\n",
    "print(\"Cube Hash:\", cube_hash(c))\n",
    "# c = Cube(\"OOOOOOOOOYYYWWWGGGBBBYYYWWWGGGBBBYYYWWWGGGBBBRRRRRRRRR\")\n",
    "\n",
    "# print(\"Cube Hash:\", cube_hash(c)[:10])"
   ]
  },
  {
   "cell_type": "code",
   "execution_count": 31,
   "metadata": {},
   "outputs": [
    {
     "name": "stdout",
     "output_type": "stream",
     "text": [
      "    OOO\n",
      "    YYY\n",
      "    OOO\n",
      "YRY WWW GOG BBB\n",
      "YRY WWW GOG BBB\n",
      "YRY WWW GOG BBB\n",
      "    RRR\n",
      "    GGG\n",
      "    RRR\n",
      "False\n",
      "    OOO\n",
      "    OOO\n",
      "    OOO\n",
      "YYY WWW GGG BBB\n",
      "YYY WWW GGG BBB\n",
      "YYY WWW GGG BBB\n",
      "    RRR\n",
      "    RRR\n",
      "    RRR\n",
      "True\n"
     ]
    }
   ],
   "source": [
    "cube = Cube(\"OOOOOOOOOYYYWWWGGGBBBYYYWWWGGGBBBYYYWWWGGGBBBRRRRRRRRR\")\n",
    "cube.S()\n",
    "print(cube)\n",
    "print(cube.is_solved())\n",
    "cube.Si()\n",
    "print(cube)\n",
    "print(cube.is_solved())"
   ]
  },
  {
   "cell_type": "code",
   "execution_count": 32,
   "metadata": {},
   "outputs": [],
   "source": [
    "import numpy as np\n",
    "\n",
    "MOVES_I = [\"Li\", \"Ri\", \"Ui\", \"Di\", \"Fi\", \"Bi\", \"Mi\", \"Ei\", \"Si\"]\n",
    "\n",
    "class Agent:\n",
    "    def __init__(self, alpha=0.9, gamma=0.95, q_init=0.6):\n",
    "        # alpha: The learning rate needs to be larger than 0 and smaller than 1\n",
    "        # gamma: The reward discount. Needs to be larger than 0  and should be smaller than 1. Values close to 1 should work best.\n",
    "        # q_init: The initial q values for each action and state.\n",
    "        \n",
    "        self.q = {}  # type: Dict[int, np.ndarray]\n",
    "        self.action_history = []  # type: List[(int, int)]\n",
    "        self.learning_rate = alpha\n",
    "        self.value_discount = gamma\n",
    "        self.q_init_val = q_init\n",
    "        super().__init__()\n",
    "\n",
    "    def get_q(self, hash_value: int) -> np.ndarray:\n",
    "        # Returns the q values for the state with hash value of cube\n",
    "        # hash_value: The hash value of the board state for which the q values should be returned\n",
    "        # return: List of q values for the input state hash.\n",
    "\n",
    "        #\n",
    "        # Build Q table in a lazy manner, only adding a state when it is actually used for the first time\n",
    "        #\n",
    "        if hash_value in self.q:\n",
    "            qvals = self.q[hash_value]\n",
    "        else:\n",
    "            qvals = np.full(9, self.q_init_val)\n",
    "            self.q[hash_value] = qvals\n",
    "\n",
    "        return qvals\n",
    "\n",
    "    def get_action(self, cube: Cube) -> int:\n",
    "        # Return the next action given the cube `board` cube on the current Q values\n",
    "        # cube: The current cube state\n",
    "        # return: The next action basesd on the current Q values for the input state\n",
    "        \n",
    "        hash_value = cube_hash(cube)  # type: int\n",
    "        qvals = self.get_q(hash_value)  # type: np.ndarray\n",
    "        m = np.argmax(qvals)  # type: int\n",
    "        return m\n",
    "\n",
    "    def action(self, cube: Cube):\n",
    "        # Makes a action to solve the cube\n",
    "        # cube: The cube to make a action on\n",
    "        # return: Bool whether the cube is solved\n",
    "\n",
    "        m = self.get_action(cube)\n",
    "        self.action_history.append((cube_hash(cube), m))\n",
    "        # cube.sequence(MOVES[m])\n",
    "        cube.sequence(MOVES_I[m])\n",
    "\n",
    "        solved = cube.is_solved()\n",
    "\n",
    "        return solved, MOVES_I[m]\n",
    "\n",
    "    def update_q(self, moves: int = 0, result: float = None):\n",
    "        # Gets called after the game has finished. Will update the current Q function based on the actions.\n",
    "\n",
    "        if(result == None):\n",
    "            result =  len(self.action_history) / moves\n",
    "    \n",
    "        # if(len(self.action_history) == moves):\n",
    "        #     result = 1\n",
    "        # else:\n",
    "        #     result = 0.5\n",
    "\n",
    "        self.action_history.reverse()\n",
    "        next_max = -1.0  # type: float\n",
    "\n",
    "        for a in self.action_history:\n",
    "            qvals = self.get_q(a[0])\n",
    "            if next_max < 0:  # First time through the loop\n",
    "                qvals[a[1]] = result\n",
    "            else:\n",
    "                qvals[a[1]] = qvals[a[1]] * (\n",
    "                            1.0 - self.learning_rate) + self.learning_rate * self.value_discount * next_max\n",
    "\n",
    "            next_max = max(qvals)\n",
    "\n",
    "    def new_agent(self):\n",
    "        self.action_history = []"
   ]
  },
  {
   "cell_type": "code",
   "execution_count": 33,
   "metadata": {},
   "outputs": [],
   "source": [
    "def try_to_solve(cube: Cube, agent: Agent, num_moves: int, cancle_after: int) -> bool:\n",
    "    agent.new_agent()\n",
    "    \n",
    "    for _ in range(cancle_after):\n",
    "      solved, move = agent.action(cube)\n",
    "      if solved:\n",
    "        agent.update_q(num_moves)\n",
    "        return True, move\n",
    "\n",
    "    agent.update_q(num_moves, -1)\n",
    "    return False, move"
   ]
  },
  {
   "cell_type": "code",
   "execution_count": 54,
   "metadata": {},
   "outputs": [
    {
     "name": "stdout",
     "output_type": "stream",
     "text": [
      "217\n"
     ]
    }
   ],
   "source": [
    "from datetime import datetime\n",
    "import pandas as pd\n",
    "import matplotlib.pyplot as plt\n",
    "\n",
    "now = datetime.now().strftime(\"%d%m%Y_%H%M%S\")\n",
    "file_name = f'data/cube_{now}.csv'\n",
    "\n",
    "def train(agent: Agent, num_moves: int = 1, cancle_after: int = 1, num_games: int = 10, log: bool = False):\n",
    "\n",
    "  if log:\n",
    "    row=[]\n",
    "    rows=[]\n",
    "\n",
    "  solved_count=0\n",
    "  for _ in range(num_games):\n",
    "    cube, seq = random_cube(num_moves, True)\n",
    "    # cube = Cube(\"OOOOOOOOOYYYWWWGGGBBBYYYWWWGGGBBBYYYWWWGGGBBBRRRRRRRRR\")\n",
    "    # cube.S()\n",
    "    if log:\n",
    "      row.append(cube_hash(cube))\n",
    "      row.append(seq)\n",
    "\n",
    "    solved, move = try_to_solve(cube, agent, num_moves, cancle_after)\n",
    "\n",
    "    if log:\n",
    "      row.append(move)\n",
    "      row.append(solved)\n",
    "      row.append(agent.q)\n",
    "      rows.append(row)\n",
    "      row=[]\n",
    "\n",
    "    if(solved):\n",
    "      solved_count+=1\n",
    "\n",
    "  if log:\n",
    "    df_cubes = pd.DataFrame(rows, columns=['Hash', 'Action', 'Move', 'Solved', \"Q\"])\n",
    "    df_cubes.to_csv(file_name, index=False, sep=\"|\")\n",
    "  print(solved_count)\n",
    "\n",
    "log = False\n",
    "agent = Agent()\n",
    "train(agent, 4, 4, 15000, log)\n",
    "if log:\n",
    "  a = pd.read_csv(file_name, sep=\"|\")\n",
    "\n",
    "  plt.ylabel('Gelöst')\n",
    "  plt.xlabel('Spiele')\n",
    "  plt.plot([ind for ind, x in enumerate(a[\"Solved\"].array)], a[\"Solved\"].array.astype(int)   , 'g-')\n",
    "  plt.legend(shadow=True, fancybox=True, framealpha =0.7)\n",
    "\n",
    "# a\n"
   ]
  },
  {
   "cell_type": "code",
   "execution_count": 35,
   "metadata": {},
   "outputs": [
    {
     "name": "stdout",
     "output_type": "stream",
     "text": [
      "date and time = 11052022_232644\n"
     ]
    }
   ],
   "source": [
    "from datetime import datetime\n",
    "# \n",
    "now = datetime.now().strftime(\"%d%m%Y_%H%M%S\")\n",
    "print(\"date and time =\", now)"
   ]
  },
  {
   "cell_type": "code",
   "execution_count": 36,
   "metadata": {},
   "outputs": [
    {
     "ename": "FileNotFoundError",
     "evalue": "[Errno 2] No such file or directory: 'data/test.csv'",
     "output_type": "error",
     "traceback": [
      "\u001b[0;31m---------------------------------------------------------------------------\u001b[0m",
      "\u001b[0;31mFileNotFoundError\u001b[0m                         Traceback (most recent call last)",
      "\u001b[1;32m/home/heitzlki/Code/nwt/rubix-cube-tabular-q-learning/rubix_cube_tabular_q_learning_analysis.ipynb Cell 10'\u001b[0m in \u001b[0;36m<module>\u001b[0;34m\u001b[0m\n\u001b[1;32m      <a href='vscode-notebook-cell:/home/heitzlki/Code/nwt/rubix-cube-tabular-q-learning/rubix_cube_tabular_q_learning_analysis.ipynb#ch0000009?line=0'>1</a>\u001b[0m \u001b[39mimport\u001b[39;00m \u001b[39mpandas\u001b[39;00m \u001b[39mas\u001b[39;00m \u001b[39mpd\u001b[39;00m\n\u001b[0;32m----> <a href='vscode-notebook-cell:/home/heitzlki/Code/nwt/rubix-cube-tabular-q-learning/rubix_cube_tabular_q_learning_analysis.ipynb#ch0000009?line=2'>3</a>\u001b[0m df \u001b[39m=\u001b[39m pd\u001b[39m.\u001b[39;49mread_csv(\u001b[39m'\u001b[39;49m\u001b[39mdata/test.csv\u001b[39;49m\u001b[39m'\u001b[39;49m)\n\u001b[1;32m      <a href='vscode-notebook-cell:/home/heitzlki/Code/nwt/rubix-cube-tabular-q-learning/rubix_cube_tabular_q_learning_analysis.ipynb#ch0000009?line=3'>4</a>\u001b[0m \u001b[39mprint\u001b[39m(df[\u001b[39m\"\u001b[39m\u001b[39ma\u001b[39m\u001b[39m\"\u001b[39m]\u001b[39m.\u001b[39marray)\n",
      "File \u001b[0;32m~/.local/lib/python3.10/site-packages/pandas/util/_decorators.py:311\u001b[0m, in \u001b[0;36mdeprecate_nonkeyword_arguments.<locals>.decorate.<locals>.wrapper\u001b[0;34m(*args, **kwargs)\u001b[0m\n\u001b[1;32m    <a href='file:///home/heitzlki/.local/lib/python3.10/site-packages/pandas/util/_decorators.py?line=304'>305</a>\u001b[0m \u001b[39mif\u001b[39;00m \u001b[39mlen\u001b[39m(args) \u001b[39m>\u001b[39m num_allow_args:\n\u001b[1;32m    <a href='file:///home/heitzlki/.local/lib/python3.10/site-packages/pandas/util/_decorators.py?line=305'>306</a>\u001b[0m     warnings\u001b[39m.\u001b[39mwarn(\n\u001b[1;32m    <a href='file:///home/heitzlki/.local/lib/python3.10/site-packages/pandas/util/_decorators.py?line=306'>307</a>\u001b[0m         msg\u001b[39m.\u001b[39mformat(arguments\u001b[39m=\u001b[39marguments),\n\u001b[1;32m    <a href='file:///home/heitzlki/.local/lib/python3.10/site-packages/pandas/util/_decorators.py?line=307'>308</a>\u001b[0m         \u001b[39mFutureWarning\u001b[39;00m,\n\u001b[1;32m    <a href='file:///home/heitzlki/.local/lib/python3.10/site-packages/pandas/util/_decorators.py?line=308'>309</a>\u001b[0m         stacklevel\u001b[39m=\u001b[39mstacklevel,\n\u001b[1;32m    <a href='file:///home/heitzlki/.local/lib/python3.10/site-packages/pandas/util/_decorators.py?line=309'>310</a>\u001b[0m     )\n\u001b[0;32m--> <a href='file:///home/heitzlki/.local/lib/python3.10/site-packages/pandas/util/_decorators.py?line=310'>311</a>\u001b[0m \u001b[39mreturn\u001b[39;00m func(\u001b[39m*\u001b[39;49margs, \u001b[39m*\u001b[39;49m\u001b[39m*\u001b[39;49mkwargs)\n",
      "File \u001b[0;32m~/.local/lib/python3.10/site-packages/pandas/io/parsers/readers.py:680\u001b[0m, in \u001b[0;36mread_csv\u001b[0;34m(filepath_or_buffer, sep, delimiter, header, names, index_col, usecols, squeeze, prefix, mangle_dupe_cols, dtype, engine, converters, true_values, false_values, skipinitialspace, skiprows, skipfooter, nrows, na_values, keep_default_na, na_filter, verbose, skip_blank_lines, parse_dates, infer_datetime_format, keep_date_col, date_parser, dayfirst, cache_dates, iterator, chunksize, compression, thousands, decimal, lineterminator, quotechar, quoting, doublequote, escapechar, comment, encoding, encoding_errors, dialect, error_bad_lines, warn_bad_lines, on_bad_lines, delim_whitespace, low_memory, memory_map, float_precision, storage_options)\u001b[0m\n\u001b[1;32m    <a href='file:///home/heitzlki/.local/lib/python3.10/site-packages/pandas/io/parsers/readers.py?line=664'>665</a>\u001b[0m kwds_defaults \u001b[39m=\u001b[39m _refine_defaults_read(\n\u001b[1;32m    <a href='file:///home/heitzlki/.local/lib/python3.10/site-packages/pandas/io/parsers/readers.py?line=665'>666</a>\u001b[0m     dialect,\n\u001b[1;32m    <a href='file:///home/heitzlki/.local/lib/python3.10/site-packages/pandas/io/parsers/readers.py?line=666'>667</a>\u001b[0m     delimiter,\n\u001b[0;32m   (...)\u001b[0m\n\u001b[1;32m    <a href='file:///home/heitzlki/.local/lib/python3.10/site-packages/pandas/io/parsers/readers.py?line=675'>676</a>\u001b[0m     defaults\u001b[39m=\u001b[39m{\u001b[39m\"\u001b[39m\u001b[39mdelimiter\u001b[39m\u001b[39m\"\u001b[39m: \u001b[39m\"\u001b[39m\u001b[39m,\u001b[39m\u001b[39m\"\u001b[39m},\n\u001b[1;32m    <a href='file:///home/heitzlki/.local/lib/python3.10/site-packages/pandas/io/parsers/readers.py?line=676'>677</a>\u001b[0m )\n\u001b[1;32m    <a href='file:///home/heitzlki/.local/lib/python3.10/site-packages/pandas/io/parsers/readers.py?line=677'>678</a>\u001b[0m kwds\u001b[39m.\u001b[39mupdate(kwds_defaults)\n\u001b[0;32m--> <a href='file:///home/heitzlki/.local/lib/python3.10/site-packages/pandas/io/parsers/readers.py?line=679'>680</a>\u001b[0m \u001b[39mreturn\u001b[39;00m _read(filepath_or_buffer, kwds)\n",
      "File \u001b[0;32m~/.local/lib/python3.10/site-packages/pandas/io/parsers/readers.py:575\u001b[0m, in \u001b[0;36m_read\u001b[0;34m(filepath_or_buffer, kwds)\u001b[0m\n\u001b[1;32m    <a href='file:///home/heitzlki/.local/lib/python3.10/site-packages/pandas/io/parsers/readers.py?line=571'>572</a>\u001b[0m _validate_names(kwds\u001b[39m.\u001b[39mget(\u001b[39m\"\u001b[39m\u001b[39mnames\u001b[39m\u001b[39m\"\u001b[39m, \u001b[39mNone\u001b[39;00m))\n\u001b[1;32m    <a href='file:///home/heitzlki/.local/lib/python3.10/site-packages/pandas/io/parsers/readers.py?line=573'>574</a>\u001b[0m \u001b[39m# Create the parser.\u001b[39;00m\n\u001b[0;32m--> <a href='file:///home/heitzlki/.local/lib/python3.10/site-packages/pandas/io/parsers/readers.py?line=574'>575</a>\u001b[0m parser \u001b[39m=\u001b[39m TextFileReader(filepath_or_buffer, \u001b[39m*\u001b[39;49m\u001b[39m*\u001b[39;49mkwds)\n\u001b[1;32m    <a href='file:///home/heitzlki/.local/lib/python3.10/site-packages/pandas/io/parsers/readers.py?line=576'>577</a>\u001b[0m \u001b[39mif\u001b[39;00m chunksize \u001b[39mor\u001b[39;00m iterator:\n\u001b[1;32m    <a href='file:///home/heitzlki/.local/lib/python3.10/site-packages/pandas/io/parsers/readers.py?line=577'>578</a>\u001b[0m     \u001b[39mreturn\u001b[39;00m parser\n",
      "File \u001b[0;32m~/.local/lib/python3.10/site-packages/pandas/io/parsers/readers.py:933\u001b[0m, in \u001b[0;36mTextFileReader.__init__\u001b[0;34m(self, f, engine, **kwds)\u001b[0m\n\u001b[1;32m    <a href='file:///home/heitzlki/.local/lib/python3.10/site-packages/pandas/io/parsers/readers.py?line=929'>930</a>\u001b[0m     \u001b[39mself\u001b[39m\u001b[39m.\u001b[39moptions[\u001b[39m\"\u001b[39m\u001b[39mhas_index_names\u001b[39m\u001b[39m\"\u001b[39m] \u001b[39m=\u001b[39m kwds[\u001b[39m\"\u001b[39m\u001b[39mhas_index_names\u001b[39m\u001b[39m\"\u001b[39m]\n\u001b[1;32m    <a href='file:///home/heitzlki/.local/lib/python3.10/site-packages/pandas/io/parsers/readers.py?line=931'>932</a>\u001b[0m \u001b[39mself\u001b[39m\u001b[39m.\u001b[39mhandles: IOHandles \u001b[39m|\u001b[39m \u001b[39mNone\u001b[39;00m \u001b[39m=\u001b[39m \u001b[39mNone\u001b[39;00m\n\u001b[0;32m--> <a href='file:///home/heitzlki/.local/lib/python3.10/site-packages/pandas/io/parsers/readers.py?line=932'>933</a>\u001b[0m \u001b[39mself\u001b[39m\u001b[39m.\u001b[39m_engine \u001b[39m=\u001b[39m \u001b[39mself\u001b[39;49m\u001b[39m.\u001b[39;49m_make_engine(f, \u001b[39mself\u001b[39;49m\u001b[39m.\u001b[39;49mengine)\n",
      "File \u001b[0;32m~/.local/lib/python3.10/site-packages/pandas/io/parsers/readers.py:1217\u001b[0m, in \u001b[0;36mTextFileReader._make_engine\u001b[0;34m(self, f, engine)\u001b[0m\n\u001b[1;32m   <a href='file:///home/heitzlki/.local/lib/python3.10/site-packages/pandas/io/parsers/readers.py?line=1212'>1213</a>\u001b[0m     mode \u001b[39m=\u001b[39m \u001b[39m\"\u001b[39m\u001b[39mrb\u001b[39m\u001b[39m\"\u001b[39m\n\u001b[1;32m   <a href='file:///home/heitzlki/.local/lib/python3.10/site-packages/pandas/io/parsers/readers.py?line=1213'>1214</a>\u001b[0m \u001b[39m# error: No overload variant of \"get_handle\" matches argument types\u001b[39;00m\n\u001b[1;32m   <a href='file:///home/heitzlki/.local/lib/python3.10/site-packages/pandas/io/parsers/readers.py?line=1214'>1215</a>\u001b[0m \u001b[39m# \"Union[str, PathLike[str], ReadCsvBuffer[bytes], ReadCsvBuffer[str]]\"\u001b[39;00m\n\u001b[1;32m   <a href='file:///home/heitzlki/.local/lib/python3.10/site-packages/pandas/io/parsers/readers.py?line=1215'>1216</a>\u001b[0m \u001b[39m# , \"str\", \"bool\", \"Any\", \"Any\", \"Any\", \"Any\", \"Any\"\u001b[39;00m\n\u001b[0;32m-> <a href='file:///home/heitzlki/.local/lib/python3.10/site-packages/pandas/io/parsers/readers.py?line=1216'>1217</a>\u001b[0m \u001b[39mself\u001b[39m\u001b[39m.\u001b[39mhandles \u001b[39m=\u001b[39m get_handle(  \u001b[39m# type: ignore[call-overload]\u001b[39;49;00m\n\u001b[1;32m   <a href='file:///home/heitzlki/.local/lib/python3.10/site-packages/pandas/io/parsers/readers.py?line=1217'>1218</a>\u001b[0m     f,\n\u001b[1;32m   <a href='file:///home/heitzlki/.local/lib/python3.10/site-packages/pandas/io/parsers/readers.py?line=1218'>1219</a>\u001b[0m     mode,\n\u001b[1;32m   <a href='file:///home/heitzlki/.local/lib/python3.10/site-packages/pandas/io/parsers/readers.py?line=1219'>1220</a>\u001b[0m     encoding\u001b[39m=\u001b[39;49m\u001b[39mself\u001b[39;49m\u001b[39m.\u001b[39;49moptions\u001b[39m.\u001b[39;49mget(\u001b[39m\"\u001b[39;49m\u001b[39mencoding\u001b[39;49m\u001b[39m\"\u001b[39;49m, \u001b[39mNone\u001b[39;49;00m),\n\u001b[1;32m   <a href='file:///home/heitzlki/.local/lib/python3.10/site-packages/pandas/io/parsers/readers.py?line=1220'>1221</a>\u001b[0m     compression\u001b[39m=\u001b[39;49m\u001b[39mself\u001b[39;49m\u001b[39m.\u001b[39;49moptions\u001b[39m.\u001b[39;49mget(\u001b[39m\"\u001b[39;49m\u001b[39mcompression\u001b[39;49m\u001b[39m\"\u001b[39;49m, \u001b[39mNone\u001b[39;49;00m),\n\u001b[1;32m   <a href='file:///home/heitzlki/.local/lib/python3.10/site-packages/pandas/io/parsers/readers.py?line=1221'>1222</a>\u001b[0m     memory_map\u001b[39m=\u001b[39;49m\u001b[39mself\u001b[39;49m\u001b[39m.\u001b[39;49moptions\u001b[39m.\u001b[39;49mget(\u001b[39m\"\u001b[39;49m\u001b[39mmemory_map\u001b[39;49m\u001b[39m\"\u001b[39;49m, \u001b[39mFalse\u001b[39;49;00m),\n\u001b[1;32m   <a href='file:///home/heitzlki/.local/lib/python3.10/site-packages/pandas/io/parsers/readers.py?line=1222'>1223</a>\u001b[0m     is_text\u001b[39m=\u001b[39;49mis_text,\n\u001b[1;32m   <a href='file:///home/heitzlki/.local/lib/python3.10/site-packages/pandas/io/parsers/readers.py?line=1223'>1224</a>\u001b[0m     errors\u001b[39m=\u001b[39;49m\u001b[39mself\u001b[39;49m\u001b[39m.\u001b[39;49moptions\u001b[39m.\u001b[39;49mget(\u001b[39m\"\u001b[39;49m\u001b[39mencoding_errors\u001b[39;49m\u001b[39m\"\u001b[39;49m, \u001b[39m\"\u001b[39;49m\u001b[39mstrict\u001b[39;49m\u001b[39m\"\u001b[39;49m),\n\u001b[1;32m   <a href='file:///home/heitzlki/.local/lib/python3.10/site-packages/pandas/io/parsers/readers.py?line=1224'>1225</a>\u001b[0m     storage_options\u001b[39m=\u001b[39;49m\u001b[39mself\u001b[39;49m\u001b[39m.\u001b[39;49moptions\u001b[39m.\u001b[39;49mget(\u001b[39m\"\u001b[39;49m\u001b[39mstorage_options\u001b[39;49m\u001b[39m\"\u001b[39;49m, \u001b[39mNone\u001b[39;49;00m),\n\u001b[1;32m   <a href='file:///home/heitzlki/.local/lib/python3.10/site-packages/pandas/io/parsers/readers.py?line=1225'>1226</a>\u001b[0m )\n\u001b[1;32m   <a href='file:///home/heitzlki/.local/lib/python3.10/site-packages/pandas/io/parsers/readers.py?line=1226'>1227</a>\u001b[0m \u001b[39massert\u001b[39;00m \u001b[39mself\u001b[39m\u001b[39m.\u001b[39mhandles \u001b[39mis\u001b[39;00m \u001b[39mnot\u001b[39;00m \u001b[39mNone\u001b[39;00m\n\u001b[1;32m   <a href='file:///home/heitzlki/.local/lib/python3.10/site-packages/pandas/io/parsers/readers.py?line=1227'>1228</a>\u001b[0m f \u001b[39m=\u001b[39m \u001b[39mself\u001b[39m\u001b[39m.\u001b[39mhandles\u001b[39m.\u001b[39mhandle\n",
      "File \u001b[0;32m~/.local/lib/python3.10/site-packages/pandas/io/common.py:789\u001b[0m, in \u001b[0;36mget_handle\u001b[0;34m(path_or_buf, mode, encoding, compression, memory_map, is_text, errors, storage_options)\u001b[0m\n\u001b[1;32m    <a href='file:///home/heitzlki/.local/lib/python3.10/site-packages/pandas/io/common.py?line=783'>784</a>\u001b[0m \u001b[39melif\u001b[39;00m \u001b[39misinstance\u001b[39m(handle, \u001b[39mstr\u001b[39m):\n\u001b[1;32m    <a href='file:///home/heitzlki/.local/lib/python3.10/site-packages/pandas/io/common.py?line=784'>785</a>\u001b[0m     \u001b[39m# Check whether the filename is to be opened in binary mode.\u001b[39;00m\n\u001b[1;32m    <a href='file:///home/heitzlki/.local/lib/python3.10/site-packages/pandas/io/common.py?line=785'>786</a>\u001b[0m     \u001b[39m# Binary mode does not support 'encoding' and 'newline'.\u001b[39;00m\n\u001b[1;32m    <a href='file:///home/heitzlki/.local/lib/python3.10/site-packages/pandas/io/common.py?line=786'>787</a>\u001b[0m     \u001b[39mif\u001b[39;00m ioargs\u001b[39m.\u001b[39mencoding \u001b[39mand\u001b[39;00m \u001b[39m\"\u001b[39m\u001b[39mb\u001b[39m\u001b[39m\"\u001b[39m \u001b[39mnot\u001b[39;00m \u001b[39min\u001b[39;00m ioargs\u001b[39m.\u001b[39mmode:\n\u001b[1;32m    <a href='file:///home/heitzlki/.local/lib/python3.10/site-packages/pandas/io/common.py?line=787'>788</a>\u001b[0m         \u001b[39m# Encoding\u001b[39;00m\n\u001b[0;32m--> <a href='file:///home/heitzlki/.local/lib/python3.10/site-packages/pandas/io/common.py?line=788'>789</a>\u001b[0m         handle \u001b[39m=\u001b[39m \u001b[39mopen\u001b[39;49m(\n\u001b[1;32m    <a href='file:///home/heitzlki/.local/lib/python3.10/site-packages/pandas/io/common.py?line=789'>790</a>\u001b[0m             handle,\n\u001b[1;32m    <a href='file:///home/heitzlki/.local/lib/python3.10/site-packages/pandas/io/common.py?line=790'>791</a>\u001b[0m             ioargs\u001b[39m.\u001b[39;49mmode,\n\u001b[1;32m    <a href='file:///home/heitzlki/.local/lib/python3.10/site-packages/pandas/io/common.py?line=791'>792</a>\u001b[0m             encoding\u001b[39m=\u001b[39;49mioargs\u001b[39m.\u001b[39;49mencoding,\n\u001b[1;32m    <a href='file:///home/heitzlki/.local/lib/python3.10/site-packages/pandas/io/common.py?line=792'>793</a>\u001b[0m             errors\u001b[39m=\u001b[39;49merrors,\n\u001b[1;32m    <a href='file:///home/heitzlki/.local/lib/python3.10/site-packages/pandas/io/common.py?line=793'>794</a>\u001b[0m             newline\u001b[39m=\u001b[39;49m\u001b[39m\"\u001b[39;49m\u001b[39m\"\u001b[39;49m,\n\u001b[1;32m    <a href='file:///home/heitzlki/.local/lib/python3.10/site-packages/pandas/io/common.py?line=794'>795</a>\u001b[0m         )\n\u001b[1;32m    <a href='file:///home/heitzlki/.local/lib/python3.10/site-packages/pandas/io/common.py?line=795'>796</a>\u001b[0m     \u001b[39melse\u001b[39;00m:\n\u001b[1;32m    <a href='file:///home/heitzlki/.local/lib/python3.10/site-packages/pandas/io/common.py?line=796'>797</a>\u001b[0m         \u001b[39m# Binary mode\u001b[39;00m\n\u001b[1;32m    <a href='file:///home/heitzlki/.local/lib/python3.10/site-packages/pandas/io/common.py?line=797'>798</a>\u001b[0m         handle \u001b[39m=\u001b[39m \u001b[39mopen\u001b[39m(handle, ioargs\u001b[39m.\u001b[39mmode)\n",
      "\u001b[0;31mFileNotFoundError\u001b[0m: [Errno 2] No such file or directory: 'data/test.csv'"
     ]
    }
   ],
   "source": [
    "import pandas as pd\n",
    "\n",
    "df = pd.read_csv('data/test.csv')\n",
    "print(df[\"a\"].array)"
   ]
  },
  {
   "cell_type": "code",
   "execution_count": null,
   "metadata": {},
   "outputs": [
    {
     "name": "stdout",
     "output_type": "stream",
     "text": [
      "                                                Cube        Hash\n",
      "0      \u001b[38;5;15mW\u001b[0m\u001b[38;5;214mO\u001b[0m\u001b[38;5;214m...  65f0760865\n",
      "1      \u001b[38;5;11mY\u001b[0m\u001b[38;5;10mG\u001b[0m\u001b[38;5;10mG\u001b...  c9a66a159b\n",
      "2      \u001b[38;5;214mO\u001b[0m\u001b[38;5;214mO\u001b[0m\u001b[38;5;15m...  1117572ea8\n",
      "3      \u001b[38;5;214mO\u001b[0m\u001b[38;5;9mR\u001b[0m\u001b[38;5;214mO...  40643657bf\n",
      "4      \u001b[38;5;11mY\u001b[0m\u001b[38;5;12mB\u001b[0m\u001b[38;5;12mB\u001b...  89f3b87ebc\n",
      "Defaulting to user installation because normal site-packages is not writeable\n",
      "Requirement already satisfied: ansi2html in /home/heitzlki/.local/lib/python3.10/site-packages (1.7.0)\n"
     ]
    },
    {
     "data": {
      "text/html": [
       "<h1>Hello, world!</h1>"
      ],
      "text/plain": [
       "<IPython.core.display.HTML object>"
      ]
     },
     "metadata": {},
     "output_type": "display_data"
    },
    {
     "data": {
      "text/html": [
       "<table border=\"1\" class=\"dataframe\">\n",
       "  <thead>\n",
       "    <tr style=\"text-align: right;\">\n",
       "      <th></th>\n",
       "      <th>Cube</th>\n",
       "      <th>Hash</th>\n",
       "    </tr>\n",
       "  </thead>\n",
       "  <tbody>\n",
       "    <tr>\n",
       "      <th>0</th>\n",
       "      <td>&lt;!DOCTYPE HTML PUBLIC \"-//W3C//DTD HTML 4.01 Transitional//EN\" \"http://www.w3.org/TR/html4/loose.dtd\"&gt;<br>&lt;html&gt;<br>&lt;head&gt;<br>&lt;meta http-equiv=\"Content-Type\" content=\"text/html; charset=utf-8\"&gt;<br>&lt;title&gt;&lt;/title&gt;<br>&lt;style type=\"text/css\"&gt;<br>.ansi2html-content { display: inline; white-space: pre-wrap; word-wrap: break-word; }<br>.body_foreground { color: #AAAAAA; }<br>.body_background { background-color: #000000; }<br>.body_foreground &gt; .bold,.bold &gt; .body_foreground, body.body_foreground &gt; pre &gt; .bold { color: #FFFFFF; font-weight: normal; }<br>.inv_foreground { color: #000000; }<br>.inv_background { background-color: #AAAAAA; }<br>.ansi38-9 { color: #ff0000; }<br>.ansi38-10 { color: #00ff00; }<br>.ansi38-11 { color: #ffff00; }<br>.ansi38-12 { color: #5c5cff; }<br>.ansi38-15 { color: #ffffff; }<br>.ansi38-214 { color: #ffaf00; }<br>&lt;/style&gt;<br>&lt;/head&gt;<br>&lt;body class=\"body_foreground body_background\" style=\"font-size: normal;\" &gt;<br>&lt;pre class=\"ansi2html-content\"&gt;<br>    &lt;span class=\"ansi38-15\"&gt;W&lt;/span&gt;&lt;span class=\"ansi38-214\"&gt;O&lt;/span&gt;&lt;span class=\"ansi38-214\"&gt;O&lt;/span&gt;<br>    &lt;span class=\"ansi38-12\"&gt;B&lt;/span&gt;&lt;span class=\"ansi38-214\"&gt;O&lt;/span&gt;&lt;span class=\"ansi38-214\"&gt;O&lt;/span&gt;<br>    &lt;span class=\"ansi38-12\"&gt;B&lt;/span&gt;&lt;span class=\"ansi38-11\"&gt;Y&lt;/span&gt;&lt;span class=\"ansi38-11\"&gt;Y&lt;/span&gt;<br>&lt;span class=\"ansi38-214\"&gt;O&lt;/span&gt;&lt;span class=\"ansi38-11\"&gt;Y&lt;/span&gt;&lt;span class=\"ansi38-11\"&gt;Y&lt;/span&gt; &lt;span class=\"ansi38-214\"&gt;O&lt;/span&gt;&lt;span class=\"ansi38-15\"&gt;W&lt;/span&gt;&lt;span class=\"ansi38-15\"&gt;W&lt;/span&gt; &lt;span class=\"ansi38-214\"&gt;O&lt;/span&gt;&lt;span class=\"ansi38-10\"&gt;G&lt;/span&gt;&lt;span class=\"ansi38-10\"&gt;G&lt;/span&gt; &lt;span class=\"ansi38-12\"&gt;B&lt;/span&gt;&lt;span class=\"ansi38-12\"&gt;B&lt;/span&gt;&lt;span class=\"ansi38-10\"&gt;G&lt;/span&gt;<br>&lt;span class=\"ansi38-10\"&gt;G&lt;/span&gt;&lt;span class=\"ansi38-11\"&gt;Y&lt;/span&gt;&lt;span class=\"ansi38-11\"&gt;Y&lt;/span&gt; &lt;span class=\"ansi38-214\"&gt;O&lt;/span&gt;&lt;span class=\"ansi38-15\"&gt;W&lt;/span&gt;&lt;span class=\"ansi38-15\"&gt;W&lt;/span&gt; &lt;span class=\"ansi38-214\"&gt;O&lt;/span&gt;&lt;span class=\"ansi38-10\"&gt;G&lt;/span&gt;&lt;span class=\"ansi38-10\"&gt;G&lt;/span&gt; &lt;span class=\"ansi38-12\"&gt;B&lt;/span&gt;&lt;span class=\"ansi38-12\"&gt;B&lt;/span&gt;&lt;span class=\"ansi38-9\"&gt;R&lt;/span&gt;<br>&lt;span class=\"ansi38-10\"&gt;G&lt;/span&gt;&lt;span class=\"ansi38-9\"&gt;R&lt;/span&gt;&lt;span class=\"ansi38-9\"&gt;R&lt;/span&gt; &lt;span class=\"ansi38-11\"&gt;Y&lt;/span&gt;&lt;span class=\"ansi38-12\"&gt;B&lt;/span&gt;&lt;span class=\"ansi38-12\"&gt;B&lt;/span&gt; &lt;span class=\"ansi38-11\"&gt;Y&lt;/span&gt;&lt;span class=\"ansi38-11\"&gt;Y&lt;/span&gt;&lt;span class=\"ansi38-9\"&gt;R&lt;/span&gt; &lt;span class=\"ansi38-15\"&gt;W&lt;/span&gt;&lt;span class=\"ansi38-15\"&gt;W&lt;/span&gt;&lt;span class=\"ansi38-9\"&gt;R&lt;/span&gt;<br>    &lt;span class=\"ansi38-15\"&gt;W&lt;/span&gt;&lt;span class=\"ansi38-9\"&gt;R&lt;/span&gt;&lt;span class=\"ansi38-9\"&gt;R&lt;/span&gt;<br>    &lt;span class=\"ansi38-15\"&gt;W&lt;/span&gt;&lt;span class=\"ansi38-9\"&gt;R&lt;/span&gt;&lt;span class=\"ansi38-9\"&gt;R&lt;/span&gt;<br>    &lt;span class=\"ansi38-12\"&gt;B&lt;/span&gt;&lt;span class=\"ansi38-10\"&gt;G&lt;/span&gt;&lt;span class=\"ansi38-10\"&gt;G&lt;/span&gt;<br>&lt;/pre&gt;<br>&lt;/body&gt;<br><br>&lt;/html&gt;<br></td>\n",
       "      <td>65f0760865</td>\n",
       "    </tr>\n",
       "    <tr>\n",
       "      <th>1</th>\n",
       "      <td>&lt;!DOCTYPE HTML PUBLIC \"-//W3C//DTD HTML 4.01 Transitional//EN\" \"http://www.w3.org/TR/html4/loose.dtd\"&gt;<br>&lt;html&gt;<br>&lt;head&gt;<br>&lt;meta http-equiv=\"Content-Type\" content=\"text/html; charset=utf-8\"&gt;<br>&lt;title&gt;&lt;/title&gt;<br>&lt;style type=\"text/css\"&gt;<br>.ansi2html-content { display: inline; white-space: pre-wrap; word-wrap: break-word; }<br>.body_foreground { color: #AAAAAA; }<br>.body_background { background-color: #000000; }<br>.body_foreground &gt; .bold,.bold &gt; .body_foreground, body.body_foreground &gt; pre &gt; .bold { color: #FFFFFF; font-weight: normal; }<br>.inv_foreground { color: #000000; }<br>.inv_background { background-color: #AAAAAA; }<br>.ansi38-9 { color: #ff0000; }<br>.ansi38-10 { color: #00ff00; }<br>.ansi38-11 { color: #ffff00; }<br>.ansi38-12 { color: #5c5cff; }<br>.ansi38-15 { color: #ffffff; }<br>.ansi38-214 { color: #ffaf00; }<br>&lt;/style&gt;<br>&lt;/head&gt;<br>&lt;body class=\"body_foreground body_background\" style=\"font-size: normal;\" &gt;<br>&lt;pre class=\"ansi2html-content\"&gt;<br>    &lt;span class=\"ansi38-11\"&gt;Y&lt;/span&gt;&lt;span class=\"ansi38-10\"&gt;G&lt;/span&gt;&lt;span class=\"ansi38-10\"&gt;G&lt;/span&gt;<br>    &lt;span class=\"ansi38-9\"&gt;R&lt;/span&gt;&lt;span class=\"ansi38-11\"&gt;Y&lt;/span&gt;&lt;span class=\"ansi38-214\"&gt;O&lt;/span&gt;<br>    &lt;span class=\"ansi38-11\"&gt;Y&lt;/span&gt;&lt;span class=\"ansi38-11\"&gt;Y&lt;/span&gt;&lt;span class=\"ansi38-214\"&gt;O&lt;/span&gt;<br>&lt;span class=\"ansi38-214\"&gt;O&lt;/span&gt;&lt;span class=\"ansi38-11\"&gt;Y&lt;/span&gt;&lt;span class=\"ansi38-214\"&gt;O&lt;/span&gt; &lt;span class=\"ansi38-12\"&gt;B&lt;/span&gt;&lt;span class=\"ansi38-214\"&gt;O&lt;/span&gt;&lt;span class=\"ansi38-10\"&gt;G&lt;/span&gt; &lt;span class=\"ansi38-12\"&gt;B&lt;/span&gt;&lt;span class=\"ansi38-12\"&gt;B&lt;/span&gt;&lt;span class=\"ansi38-9\"&gt;R&lt;/span&gt; &lt;span class=\"ansi38-12\"&gt;B&lt;/span&gt;&lt;span class=\"ansi38-12\"&gt;B&lt;/span&gt;&lt;span class=\"ansi38-15\"&gt;W&lt;/span&gt;<br>&lt;span class=\"ansi38-9\"&gt;R&lt;/span&gt;&lt;span class=\"ansi38-9\"&gt;R&lt;/span&gt;&lt;span class=\"ansi38-15\"&gt;W&lt;/span&gt; &lt;span class=\"ansi38-214\"&gt;O&lt;/span&gt;&lt;span class=\"ansi38-15\"&gt;W&lt;/span&gt;&lt;span class=\"ansi38-15\"&gt;W&lt;/span&gt; &lt;span class=\"ansi38-10\"&gt;G&lt;/span&gt;&lt;span class=\"ansi38-214\"&gt;O&lt;/span&gt;&lt;span class=\"ansi38-9\"&gt;R&lt;/span&gt; &lt;span class=\"ansi38-12\"&gt;B&lt;/span&gt;&lt;span class=\"ansi38-12\"&gt;B&lt;/span&gt;&lt;span class=\"ansi38-10\"&gt;G&lt;/span&gt;<br>&lt;span class=\"ansi38-11\"&gt;Y&lt;/span&gt;&lt;span class=\"ansi38-11\"&gt;Y&lt;/span&gt;&lt;span class=\"ansi38-15\"&gt;W&lt;/span&gt; &lt;span class=\"ansi38-214\"&gt;O&lt;/span&gt;&lt;span class=\"ansi38-15\"&gt;W&lt;/span&gt;&lt;span class=\"ansi38-15\"&gt;W&lt;/span&gt; &lt;span class=\"ansi38-10\"&gt;G&lt;/span&gt;&lt;span class=\"ansi38-214\"&gt;O&lt;/span&gt;&lt;span class=\"ansi38-9\"&gt;R&lt;/span&gt; &lt;span class=\"ansi38-12\"&gt;B&lt;/span&gt;&lt;span class=\"ansi38-12\"&gt;B&lt;/span&gt;&lt;span class=\"ansi38-9\"&gt;R&lt;/span&gt;<br>    &lt;span class=\"ansi38-10\"&gt;G&lt;/span&gt;&lt;span class=\"ansi38-9\"&gt;R&lt;/span&gt;&lt;span class=\"ansi38-9\"&gt;R&lt;/span&gt;<br>    &lt;span class=\"ansi38-15\"&gt;W&lt;/span&gt;&lt;span class=\"ansi38-10\"&gt;G&lt;/span&gt;&lt;span class=\"ansi38-10\"&gt;G&lt;/span&gt;<br>    &lt;span class=\"ansi38-15\"&gt;W&lt;/span&gt;&lt;span class=\"ansi38-11\"&gt;Y&lt;/span&gt;&lt;span class=\"ansi38-11\"&gt;Y&lt;/span&gt;<br>&lt;/pre&gt;<br>&lt;/body&gt;<br><br>&lt;/html&gt;<br></td>\n",
       "      <td>c9a66a159b</td>\n",
       "    </tr>\n",
       "    <tr>\n",
       "      <th>2</th>\n",
       "      <td>&lt;!DOCTYPE HTML PUBLIC \"-//W3C//DTD HTML 4.01 Transitional//EN\" \"http://www.w3.org/TR/html4/loose.dtd\"&gt;<br>&lt;html&gt;<br>&lt;head&gt;<br>&lt;meta http-equiv=\"Content-Type\" content=\"text/html; charset=utf-8\"&gt;<br>&lt;title&gt;&lt;/title&gt;<br>&lt;style type=\"text/css\"&gt;<br>.ansi2html-content { display: inline; white-space: pre-wrap; word-wrap: break-word; }<br>.body_foreground { color: #AAAAAA; }<br>.body_background { background-color: #000000; }<br>.body_foreground &gt; .bold,.bold &gt; .body_foreground, body.body_foreground &gt; pre &gt; .bold { color: #FFFFFF; font-weight: normal; }<br>.inv_foreground { color: #000000; }<br>.inv_background { background-color: #AAAAAA; }<br>.ansi38-9 { color: #ff0000; }<br>.ansi38-10 { color: #00ff00; }<br>.ansi38-11 { color: #ffff00; }<br>.ansi38-12 { color: #5c5cff; }<br>.ansi38-15 { color: #ffffff; }<br>.ansi38-214 { color: #ffaf00; }<br>&lt;/style&gt;<br>&lt;/head&gt;<br>&lt;body class=\"body_foreground body_background\" style=\"font-size: normal;\" &gt;<br>&lt;pre class=\"ansi2html-content\"&gt;<br>    &lt;span class=\"ansi38-214\"&gt;O&lt;/span&gt;&lt;span class=\"ansi38-214\"&gt;O&lt;/span&gt;&lt;span class=\"ansi38-15\"&gt;W&lt;/span&gt;<br>    &lt;span class=\"ansi38-11\"&gt;Y&lt;/span&gt;&lt;span class=\"ansi38-12\"&gt;B&lt;/span&gt;&lt;span class=\"ansi38-11\"&gt;Y&lt;/span&gt;<br>    &lt;span class=\"ansi38-214\"&gt;O&lt;/span&gt;&lt;span class=\"ansi38-214\"&gt;O&lt;/span&gt;&lt;span class=\"ansi38-15\"&gt;W&lt;/span&gt;<br>&lt;span class=\"ansi38-11\"&gt;Y&lt;/span&gt;&lt;span class=\"ansi38-9\"&gt;R&lt;/span&gt;&lt;span class=\"ansi38-11\"&gt;Y&lt;/span&gt; &lt;span class=\"ansi38-15\"&gt;W&lt;/span&gt;&lt;span class=\"ansi38-15\"&gt;W&lt;/span&gt;&lt;span class=\"ansi38-9\"&gt;R&lt;/span&gt; &lt;span class=\"ansi38-10\"&gt;G&lt;/span&gt;&lt;span class=\"ansi38-15\"&gt;W&lt;/span&gt;&lt;span class=\"ansi38-10\"&gt;G&lt;/span&gt; &lt;span class=\"ansi38-214\"&gt;O&lt;/span&gt;&lt;span class=\"ansi38-12\"&gt;B&lt;/span&gt;&lt;span class=\"ansi38-12\"&gt;B&lt;/span&gt;<br>&lt;span class=\"ansi38-12\"&gt;B&lt;/span&gt;&lt;span class=\"ansi38-9\"&gt;R&lt;/span&gt;&lt;span class=\"ansi38-12\"&gt;B&lt;/span&gt; &lt;span class=\"ansi38-11\"&gt;Y&lt;/span&gt;&lt;span class=\"ansi38-11\"&gt;Y&lt;/span&gt;&lt;span class=\"ansi38-10\"&gt;G&lt;/span&gt; &lt;span class=\"ansi38-214\"&gt;O&lt;/span&gt;&lt;span class=\"ansi38-214\"&gt;O&lt;/span&gt;&lt;span class=\"ansi38-214\"&gt;O&lt;/span&gt; &lt;span class=\"ansi38-11\"&gt;Y&lt;/span&gt;&lt;span class=\"ansi38-10\"&gt;G&lt;/span&gt;&lt;span class=\"ansi38-10\"&gt;G&lt;/span&gt;<br>&lt;span class=\"ansi38-214\"&gt;O&lt;/span&gt;&lt;span class=\"ansi38-12\"&gt;B&lt;/span&gt;&lt;span class=\"ansi38-12\"&gt;B&lt;/span&gt; &lt;span class=\"ansi38-11\"&gt;Y&lt;/span&gt;&lt;span class=\"ansi38-9\"&gt;R&lt;/span&gt;&lt;span class=\"ansi38-11\"&gt;Y&lt;/span&gt; &lt;span class=\"ansi38-15\"&gt;W&lt;/span&gt;&lt;span class=\"ansi38-15\"&gt;W&lt;/span&gt;&lt;span class=\"ansi38-9\"&gt;R&lt;/span&gt; &lt;span class=\"ansi38-10\"&gt;G&lt;/span&gt;&lt;span class=\"ansi38-15\"&gt;W&lt;/span&gt;&lt;span class=\"ansi38-10\"&gt;G&lt;/span&gt;<br>    &lt;span class=\"ansi38-9\"&gt;R&lt;/span&gt;&lt;span class=\"ansi38-10\"&gt;G&lt;/span&gt;&lt;span class=\"ansi38-9\"&gt;R&lt;/span&gt;<br>    &lt;span class=\"ansi38-9\"&gt;R&lt;/span&gt;&lt;span class=\"ansi38-15\"&gt;W&lt;/span&gt;&lt;span class=\"ansi38-9\"&gt;R&lt;/span&gt;<br>    &lt;span class=\"ansi38-12\"&gt;B&lt;/span&gt;&lt;span class=\"ansi38-10\"&gt;G&lt;/span&gt;&lt;span class=\"ansi38-12\"&gt;B&lt;/span&gt;<br>&lt;/pre&gt;<br>&lt;/body&gt;<br><br>&lt;/html&gt;<br></td>\n",
       "      <td>1117572ea8</td>\n",
       "    </tr>\n",
       "    <tr>\n",
       "      <th>3</th>\n",
       "      <td>&lt;!DOCTYPE HTML PUBLIC \"-//W3C//DTD HTML 4.01 Transitional//EN\" \"http://www.w3.org/TR/html4/loose.dtd\"&gt;<br>&lt;html&gt;<br>&lt;head&gt;<br>&lt;meta http-equiv=\"Content-Type\" content=\"text/html; charset=utf-8\"&gt;<br>&lt;title&gt;&lt;/title&gt;<br>&lt;style type=\"text/css\"&gt;<br>.ansi2html-content { display: inline; white-space: pre-wrap; word-wrap: break-word; }<br>.body_foreground { color: #AAAAAA; }<br>.body_background { background-color: #000000; }<br>.body_foreground &gt; .bold,.bold &gt; .body_foreground, body.body_foreground &gt; pre &gt; .bold { color: #FFFFFF; font-weight: normal; }<br>.inv_foreground { color: #000000; }<br>.inv_background { background-color: #AAAAAA; }<br>.ansi38-9 { color: #ff0000; }<br>.ansi38-10 { color: #00ff00; }<br>.ansi38-11 { color: #ffff00; }<br>.ansi38-12 { color: #5c5cff; }<br>.ansi38-15 { color: #ffffff; }<br>.ansi38-214 { color: #ffaf00; }<br>&lt;/style&gt;<br>&lt;/head&gt;<br>&lt;body class=\"body_foreground body_background\" style=\"font-size: normal;\" &gt;<br>&lt;pre class=\"ansi2html-content\"&gt;<br>    &lt;span class=\"ansi38-214\"&gt;O&lt;/span&gt;&lt;span class=\"ansi38-9\"&gt;R&lt;/span&gt;&lt;span class=\"ansi38-214\"&gt;O&lt;/span&gt;<br>    &lt;span class=\"ansi38-214\"&gt;O&lt;/span&gt;&lt;span class=\"ansi38-9\"&gt;R&lt;/span&gt;&lt;span class=\"ansi38-214\"&gt;O&lt;/span&gt;<br>    &lt;span class=\"ansi38-12\"&gt;B&lt;/span&gt;&lt;span class=\"ansi38-11\"&gt;Y&lt;/span&gt;&lt;span class=\"ansi38-11\"&gt;Y&lt;/span&gt;<br>&lt;span class=\"ansi38-11\"&gt;Y&lt;/span&gt;&lt;span class=\"ansi38-11\"&gt;Y&lt;/span&gt;&lt;span class=\"ansi38-9\"&gt;R&lt;/span&gt; &lt;span class=\"ansi38-11\"&gt;Y&lt;/span&gt;&lt;span class=\"ansi38-15\"&gt;W&lt;/span&gt;&lt;span class=\"ansi38-15\"&gt;W&lt;/span&gt; &lt;span class=\"ansi38-214\"&gt;O&lt;/span&gt;&lt;span class=\"ansi38-10\"&gt;G&lt;/span&gt;&lt;span class=\"ansi38-10\"&gt;G&lt;/span&gt; &lt;span class=\"ansi38-12\"&gt;B&lt;/span&gt;&lt;span class=\"ansi38-15\"&gt;W&lt;/span&gt;&lt;span class=\"ansi38-12\"&gt;B&lt;/span&gt;<br>&lt;span class=\"ansi38-11\"&gt;Y&lt;/span&gt;&lt;span class=\"ansi38-11\"&gt;Y&lt;/span&gt;&lt;span class=\"ansi38-9\"&gt;R&lt;/span&gt; &lt;span class=\"ansi38-11\"&gt;Y&lt;/span&gt;&lt;span class=\"ansi38-12\"&gt;B&lt;/span&gt;&lt;span class=\"ansi38-12\"&gt;B&lt;/span&gt; &lt;span class=\"ansi38-9\"&gt;R&lt;/span&gt;&lt;span class=\"ansi38-10\"&gt;G&lt;/span&gt;&lt;span class=\"ansi38-10\"&gt;G&lt;/span&gt; &lt;span class=\"ansi38-12\"&gt;B&lt;/span&gt;&lt;span class=\"ansi38-15\"&gt;W&lt;/span&gt;&lt;span class=\"ansi38-12\"&gt;B&lt;/span&gt;<br>&lt;span class=\"ansi38-12\"&gt;B&lt;/span&gt;&lt;span class=\"ansi38-15\"&gt;W&lt;/span&gt;&lt;span class=\"ansi38-9\"&gt;R&lt;/span&gt; &lt;span class=\"ansi38-11\"&gt;Y&lt;/span&gt;&lt;span class=\"ansi38-15\"&gt;W&lt;/span&gt;&lt;span class=\"ansi38-15\"&gt;W&lt;/span&gt; &lt;span class=\"ansi38-214\"&gt;O&lt;/span&gt;&lt;span class=\"ansi38-12\"&gt;B&lt;/span&gt;&lt;span class=\"ansi38-15\"&gt;W&lt;/span&gt; &lt;span class=\"ansi38-10\"&gt;G&lt;/span&gt;&lt;span class=\"ansi38-10\"&gt;G&lt;/span&gt;&lt;span class=\"ansi38-10\"&gt;G&lt;/span&gt;<br>    &lt;span class=\"ansi38-15\"&gt;W&lt;/span&gt;&lt;span class=\"ansi38-10\"&gt;G&lt;/span&gt;&lt;span class=\"ansi38-10\"&gt;G&lt;/span&gt;<br>    &lt;span class=\"ansi38-214\"&gt;O&lt;/span&gt;&lt;span class=\"ansi38-214\"&gt;O&lt;/span&gt;&lt;span class=\"ansi38-214\"&gt;O&lt;/span&gt;<br>    &lt;span class=\"ansi38-9\"&gt;R&lt;/span&gt;&lt;span class=\"ansi38-9\"&gt;R&lt;/span&gt;&lt;span class=\"ansi38-9\"&gt;R&lt;/span&gt;<br>&lt;/pre&gt;<br>&lt;/body&gt;<br><br>&lt;/html&gt;<br></td>\n",
       "      <td>40643657bf</td>\n",
       "    </tr>\n",
       "    <tr>\n",
       "      <th>4</th>\n",
       "      <td>&lt;!DOCTYPE HTML PUBLIC \"-//W3C//DTD HTML 4.01 Transitional//EN\" \"http://www.w3.org/TR/html4/loose.dtd\"&gt;<br>&lt;html&gt;<br>&lt;head&gt;<br>&lt;meta http-equiv=\"Content-Type\" content=\"text/html; charset=utf-8\"&gt;<br>&lt;title&gt;&lt;/title&gt;<br>&lt;style type=\"text/css\"&gt;<br>.ansi2html-content { display: inline; white-space: pre-wrap; word-wrap: break-word; }<br>.body_foreground { color: #AAAAAA; }<br>.body_background { background-color: #000000; }<br>.body_foreground &gt; .bold,.bold &gt; .body_foreground, body.body_foreground &gt; pre &gt; .bold { color: #FFFFFF; font-weight: normal; }<br>.inv_foreground { color: #000000; }<br>.inv_background { background-color: #AAAAAA; }<br>.ansi38-9 { color: #ff0000; }<br>.ansi38-10 { color: #00ff00; }<br>.ansi38-11 { color: #ffff00; }<br>.ansi38-12 { color: #5c5cff; }<br>.ansi38-15 { color: #ffffff; }<br>.ansi38-214 { color: #ffaf00; }<br>&lt;/style&gt;<br>&lt;/head&gt;<br>&lt;body class=\"body_foreground body_background\" style=\"font-size: normal;\" &gt;<br>&lt;pre class=\"ansi2html-content\"&gt;<br>    &lt;span class=\"ansi38-11\"&gt;Y&lt;/span&gt;&lt;span class=\"ansi38-12\"&gt;B&lt;/span&gt;&lt;span class=\"ansi38-12\"&gt;B&lt;/span&gt;<br>    &lt;span class=\"ansi38-214\"&gt;O&lt;/span&gt;&lt;span class=\"ansi38-214\"&gt;O&lt;/span&gt;&lt;span class=\"ansi38-214\"&gt;O&lt;/span&gt;<br>    &lt;span class=\"ansi38-15\"&gt;W&lt;/span&gt;&lt;span class=\"ansi38-15\"&gt;W&lt;/span&gt;&lt;span class=\"ansi38-10\"&gt;G&lt;/span&gt;<br>&lt;span class=\"ansi38-214\"&gt;O&lt;/span&gt;&lt;span class=\"ansi38-10\"&gt;G&lt;/span&gt;&lt;span class=\"ansi38-9\"&gt;R&lt;/span&gt; &lt;span class=\"ansi38-10\"&gt;G&lt;/span&gt;&lt;span class=\"ansi38-10\"&gt;G&lt;/span&gt;&lt;span class=\"ansi38-12\"&gt;B&lt;/span&gt; &lt;span class=\"ansi38-214\"&gt;O&lt;/span&gt;&lt;span class=\"ansi38-11\"&gt;Y&lt;/span&gt;&lt;span class=\"ansi38-9\"&gt;R&lt;/span&gt; &lt;span class=\"ansi38-11\"&gt;Y&lt;/span&gt;&lt;span class=\"ansi38-11\"&gt;Y&lt;/span&gt;&lt;span class=\"ansi38-15\"&gt;W&lt;/span&gt;<br>&lt;span class=\"ansi38-11\"&gt;Y&lt;/span&gt;&lt;span class=\"ansi38-11\"&gt;Y&lt;/span&gt;&lt;span class=\"ansi38-15\"&gt;W&lt;/span&gt; &lt;span class=\"ansi38-214\"&gt;O&lt;/span&gt;&lt;span class=\"ansi38-15\"&gt;W&lt;/span&gt;&lt;span class=\"ansi38-9\"&gt;R&lt;/span&gt; &lt;span class=\"ansi38-10\"&gt;G&lt;/span&gt;&lt;span class=\"ansi38-10\"&gt;G&lt;/span&gt;&lt;span class=\"ansi38-12\"&gt;B&lt;/span&gt; &lt;span class=\"ansi38-214\"&gt;O&lt;/span&gt;&lt;span class=\"ansi38-12\"&gt;B&lt;/span&gt;&lt;span class=\"ansi38-9\"&gt;R&lt;/span&gt;<br>&lt;span class=\"ansi38-11\"&gt;Y&lt;/span&gt;&lt;span class=\"ansi38-11\"&gt;Y&lt;/span&gt;&lt;span class=\"ansi38-15\"&gt;W&lt;/span&gt; &lt;span class=\"ansi38-214\"&gt;O&lt;/span&gt;&lt;span class=\"ansi38-15\"&gt;W&lt;/span&gt;&lt;span class=\"ansi38-9\"&gt;R&lt;/span&gt; &lt;span class=\"ansi38-10\"&gt;G&lt;/span&gt;&lt;span class=\"ansi38-10\"&gt;G&lt;/span&gt;&lt;span class=\"ansi38-12\"&gt;B&lt;/span&gt; &lt;span class=\"ansi38-214\"&gt;O&lt;/span&gt;&lt;span class=\"ansi38-12\"&gt;B&lt;/span&gt;&lt;span class=\"ansi38-9\"&gt;R&lt;/span&gt;<br>    &lt;span class=\"ansi38-10\"&gt;G&lt;/span&gt;&lt;span class=\"ansi38-9\"&gt;R&lt;/span&gt;&lt;span class=\"ansi38-12\"&gt;B&lt;/span&gt;<br>    &lt;span class=\"ansi38-15\"&gt;W&lt;/span&gt;&lt;span class=\"ansi38-9\"&gt;R&lt;/span&gt;&lt;span class=\"ansi38-12\"&gt;B&lt;/span&gt;<br>    &lt;span class=\"ansi38-15\"&gt;W&lt;/span&gt;&lt;span class=\"ansi38-9\"&gt;R&lt;/span&gt;&lt;span class=\"ansi38-11\"&gt;Y&lt;/span&gt;<br>&lt;/pre&gt;<br>&lt;/body&gt;<br><br>&lt;/html&gt;<br></td>\n",
       "      <td>89f3b87ebc</td>\n",
       "    </tr>\n",
       "  </tbody>\n",
       "</table>"
      ],
      "text/plain": [
       "<IPython.core.display.HTML object>"
      ]
     },
     "metadata": {},
     "output_type": "display_data"
    }
   ],
   "source": [
    "cities = pd.DataFrame([['Sacramento', 'California'], ['Miami', 'Florida']], columns=['City', 'State'])\n",
    "\n",
    "cubes = [random_cube(4) for _ in range(5) ]\n",
    "# [print(cube) for cube in cubes]\n",
    "cube_hashes = [cube_hash(cube) for cube in cubes]\n",
    "colored_cubes = [colored_cube(cube) for cube in cubes]\n",
    "df = [[colored_cubes[i], cube_hashes[i]] for i in range(len(cubes))]\n",
    "# print(df)\n",
    "\n",
    "df_cubes = pd.DataFrame(df, columns=['Cube', 'Hash'])\n",
    "\n",
    "df_cubes.to_csv('data/cube.csv', index=False, sep=\"|\")\n",
    "a = pd.read_csv('data/cube.csv', sep=\"|\")\n",
    "\n",
    "print(a)\n",
    "from IPython.display import display, HTML\n",
    "# display(HTML(a.to_clipboard()))\n",
    "# print(a.to_json())\n",
    "# print(a)\n",
    "# for column in a:\n",
    "#     print(a[column])\n",
    "# for _ in range(len(cubes)):\n",
    "#   for name, values in a.iteritems():\n",
    "#       print('{name}: {value}'.format(name=name, value=values[0]))\n",
    "# for (columnName, columnData) in a.iteritems():\n",
    "#     print('Column Name : ', columnName)\n",
    "#     print('Column Contents : ', columnData.values[0])\n",
    "# for x in a[\"Cube\"]:\n",
    "#     print(x)\n",
    "!pip3 install ansi2html\n",
    "pd.set_option('display.max_colwidth', None)\n",
    "from IPython.display import display, HTML\n",
    "from ansi2html import Ansi2HTMLConverter\n",
    "conv = Ansi2HTMLConverter()\n",
    "\n",
    "def pretty_print(df):\n",
    "    for i, x in enumerate(df[\"Cube\"]):\n",
    "        df[\"Cube\"][i] = conv.convert(\"\".join(x))\n",
    "        # print(display(HTML(conv.convert(x))))\n",
    "\n",
    "    html_df = df.to_html()\n",
    "    newline_df = html_df.replace(\"\\\\n\",\"<br>\")\n",
    "    # colored_df = conv.convert(newline_df)\n",
    "\n",
    "\n",
    "    return  display(HTML(newline_df))\n",
    "\n",
    "display(HTML('<h1>Hello, world!</h1>'))\n",
    "pretty_print(a)\n",
    "# display(HTML(a.to_html()))\n",
    "\n",
    "# \n",
    "\n",
    "\n",
    "# conv = Ansi2HTMLConverter()\n",
    "# ansi = \"\".join(colored_cube(random_cube(1)))\n",
    "# html = conv.convert(ansi)\n",
    "# display( HTML( html ) )"
   ]
  }
 ],
 "metadata": {
  "interpreter": {
   "hash": "767d51c1340bd893661ea55ea3124f6de3c7a262a8b4abca0554b478b1e2ff90"
  },
  "kernelspec": {
   "display_name": "Python 3.10.4 64-bit",
   "language": "python",
   "name": "python3"
  },
  "language_info": {
   "codemirror_mode": {
    "name": "ipython",
    "version": 3
   },
   "file_extension": ".py",
   "mimetype": "text/x-python",
   "name": "python",
   "nbconvert_exporter": "python",
   "pygments_lexer": "ipython3",
   "version": "3.10.4"
  },
  "orig_nbformat": 4
 },
 "nbformat": 4,
 "nbformat_minor": 2
}
